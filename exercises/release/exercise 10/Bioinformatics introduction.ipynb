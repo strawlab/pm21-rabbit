{
 "cells": [
  {
   "cell_type": "markdown",
   "metadata": {
    "deletable": false,
    "editable": false,
    "nbgrader": {
     "cell_type": "markdown",
     "checksum": "b2b503075dc9e28aef8d23c9500b378d",
     "grade": false,
     "grade_id": "cell-6eb17f6ff50e7d3d",
     "locked": true,
     "schema_version": 3,
     "solution": false,
     "task": false
    },
    "tags": []
   },
   "source": [
    "# Bioinformatics introduction"
   ]
  },
  {
   "cell_type": "markdown",
   "metadata": {
    "deletable": false,
    "editable": false,
    "nbgrader": {
     "cell_type": "markdown",
     "checksum": "ce08e4f1546ea2f35e2c82f4250ecd17",
     "grade": false,
     "grade_id": "cell-946d22188d87a0a5",
     "locked": true,
     "schema_version": 3,
     "solution": false,
     "task": false
    },
    "tags": []
   },
   "source": [
    "In this exercise, you will perform some bioinformatic analysis. There is no specific correct answer here, but rather a series of tasks which to fulfill. You are encouraged to use online resources and discussions with colleagues to help you at all stages.\n",
    "\n",
    "The majority of the work for this exercise is manually interacting with websites and understanding what types of data they use and first steps of using the online tools. The Python here is mainly used as a path for you to follow through the steps one-by-one.\n",
    "\n",
    "Pick a protein-coding gene interesting to you. In case you cannot think of anything, I suggest: ACE2, TP53, TGFbeta1, Drosophila DopEcR, TAS1R2, Drosophila nAChRalpha1. Find the gene at [NCBI Gene](https://www.ncbi.nlm.nih.gov/gene).\n",
    "\n",
    "## Task 1: What is the full name of this gene? What is the NCBI GeneID?"
   ]
  },
  {
   "cell_type": "markdown",
   "metadata": {
    "deletable": false,
    "nbgrader": {
     "cell_type": "markdown",
     "checksum": "1bfc9d312a1c5a5db535b14165966b3f",
     "grade": true,
     "grade_id": "cell-f26307b555211aca",
     "locked": false,
     "points": 1,
     "schema_version": 3,
     "solution": true,
     "task": false
    }
   },
   "source": [
    "YOUR ANSWER HERE"
   ]
  },
  {
   "cell_type": "markdown",
   "metadata": {
    "deletable": false,
    "editable": false,
    "nbgrader": {
     "cell_type": "markdown",
     "checksum": "b917e142873b71e75f2681c5b31f7607",
     "grade": false,
     "grade_id": "cell-b9777b8be7bc0ad5",
     "locked": true,
     "schema_version": 3,
     "solution": false,
     "task": false
    },
    "tags": []
   },
   "source": [
    "Find the complete sequence for one protein isoform using [NCBI protein database website](https://www.ncbi.nlm.nih.gov/protein/). Hint: it may be easier to find the protein sequence after first finding the gene at [NCBI Gene](https://www.ncbi.nlm.nih.gov/gene), go to \"RefSeq\" sequences and then clicking on the protein sequence, which will probably start with `NP_`.\n",
    "\n",
    "Download a FASTA file with the seqence of this protein isoform.\n",
    "\n",
    "## Task 2: Make a variable named `original_fasta` which is a string containing the FASTA format protein sequence\n",
    "\n",
    "You can create a multi-line string in Python with triple quotes like this:\n",
    "\n",
    "```python\n",
    "my_string = \"\"\"line 1\n",
    "line 2\n",
    "line 3\"\"\"\n",
    "```\n",
    "\n",
    "Or this this:\n",
    "\n",
    "```python\n",
    "my_string = '''line 1\n",
    "line 2\n",
    "line 3'''\n",
    "```"
   ]
  },
  {
   "cell_type": "code",
   "execution_count": null,
   "metadata": {
    "deletable": false,
    "nbgrader": {
     "cell_type": "code",
     "checksum": "139b223a2c36cdccb5bf7ee15a4b5395",
     "grade": false,
     "grade_id": "cell-c81dad73272cc1d7",
     "locked": false,
     "schema_version": 3,
     "solution": true,
     "task": false
    }
   },
   "outputs": [],
   "source": [
    "# YOUR CODE HERE\n",
    "raise NotImplementedError()"
   ]
  },
  {
   "cell_type": "code",
   "execution_count": null,
   "metadata": {
    "deletable": false,
    "editable": false,
    "nbgrader": {
     "cell_type": "code",
     "checksum": "41e299a9f67206d4ccb5db71286e78d3",
     "grade": true,
     "grade_id": "cell-7a1036cfda280feb",
     "locked": true,
     "points": 1,
     "schema_version": 3,
     "solution": false,
     "task": false
    }
   },
   "outputs": [],
   "source": [
    "# This is a test of the above, do not change this code.\n",
    "import io\n",
    "import Bio.SeqIO\n",
    "records = [record for record in Bio.SeqIO.parse(io.StringIO(original_fasta), \"fasta\")]\n",
    "assert len(records)==1\n",
    "assert isinstance(records[0], Bio.SeqRecord.SeqRecord)"
   ]
  },
  {
   "cell_type": "markdown",
   "metadata": {
    "deletable": false,
    "editable": false,
    "nbgrader": {
     "cell_type": "markdown",
     "checksum": "6cbd6076b4682544307e6c6d3a8e9f8c",
     "grade": false,
     "grade_id": "cell-96024e67e7e5036e",
     "locked": true,
     "schema_version": 3,
     "solution": false,
     "task": false
    },
    "tags": []
   },
   "source": [
    "Now perform a protein BLAST search for homologous sequences using [the NCBI BLAST website](https://blast.ncbi.nlm.nih.gov/Blast.cgi).\n",
    "\n",
    "View the FASTA data with these sequences for at least 5 total sequences. Do not take other isoforms of the same gene in the same species. Take either: A) other genes in the same species or B) potentially homologous genes in other species. Do not take both A and B. You may limit your search to specific species to fulfill these criteria or your own curiosity.\n",
    "\n",
    "## Task 3: Make a variable named `others` which is a list of strings containing the FASTA format protein sequences"
   ]
  },
  {
   "cell_type": "code",
   "execution_count": null,
   "metadata": {
    "deletable": false,
    "nbgrader": {
     "cell_type": "code",
     "checksum": "0936cf6d534396b4994046c52d612b77",
     "grade": false,
     "grade_id": "cell-f4f84628865fc2ec",
     "locked": false,
     "schema_version": 3,
     "solution": true,
     "task": false
    }
   },
   "outputs": [],
   "source": [
    "# YOUR CODE HERE\n",
    "raise NotImplementedError()"
   ]
  },
  {
   "cell_type": "code",
   "execution_count": null,
   "metadata": {
    "deletable": false,
    "editable": false,
    "nbgrader": {
     "cell_type": "code",
     "checksum": "1826ab033792c96c815d9d0cf06f6a70",
     "grade": true,
     "grade_id": "cell-0ef639671dbc2b53",
     "locked": true,
     "points": 1,
     "schema_version": 3,
     "solution": false,
     "task": false
    }
   },
   "outputs": [],
   "source": [
    "# This is a test of the above, do not change this code.\n",
    "assert len(others)>=5\n",
    "seen = [original_fasta]\n",
    "for this_fasta in others:\n",
    "    assert type(this_fasta)==str\n",
    "    assert this_fasta not in seen    \n",
    "    records = [record for record in Bio.SeqIO.parse(io.StringIO(this_fasta), \"fasta\")]\n",
    "    assert len(records)==1"
   ]
  },
  {
   "cell_type": "markdown",
   "metadata": {
    "deletable": false,
    "editable": false,
    "nbgrader": {
     "cell_type": "markdown",
     "checksum": "cf5d4cd03f07da4637e933879f75df7f",
     "grade": false,
     "grade_id": "cell-e62c5138daab0413",
     "locked": true,
     "schema_version": 3,
     "solution": false,
     "task": false
    },
    "tags": []
   },
   "source": [
    "Now, let's join your original fasta data and the data you found with BLAST all together in one big multi-sequence FASTA data string.\n",
    "\n",
    "FASTA files can have multiple sequences in one file just by *concatenating* (or \"joining\" or \"adding\") them together."
   ]
  },
  {
   "cell_type": "code",
   "execution_count": null,
   "metadata": {
    "deletable": false,
    "editable": false,
    "nbgrader": {
     "cell_type": "code",
     "checksum": "c6363b63187af4e61f317b93716bab40",
     "grade": false,
     "grade_id": "cell-bbfd775731cacd7d",
     "locked": true,
     "schema_version": 3,
     "solution": false,
     "task": false
    },
    "tags": []
   },
   "outputs": [],
   "source": [
    "all_list = [original_fasta] + others\n",
    "all_string = '\\n'.join(all_list)\n",
    "print(all_string)"
   ]
  },
  {
   "cell_type": "markdown",
   "metadata": {
    "deletable": false,
    "editable": false,
    "nbgrader": {
     "cell_type": "markdown",
     "checksum": "d62b7ab1f3650abd2f941e616490dede",
     "grade": false,
     "grade_id": "cell-5d4a627513248352",
     "locked": true,
     "schema_version": 3,
     "solution": false,
     "task": false
    },
    "tags": []
   },
   "source": [
    "## Task 4: Perform multi-species alignment using [Clustal Omega at the EBI website](https://www.ebi.ac.uk/Tools/msa/clustalo/).\n",
    "\n",
    "This website runs multiple sequence alignment software. You can directly upload the multiple sequence FASTA file you generated above and let their computer do the alignment.\n",
    "\n",
    "Cut and paste the multiple sequence FASTA above into the Clustal Omega entry page at the EBI website. Keep all parameters at their default values (Protein, Output format ClustalW with character counts).\n",
    "\n",
    "Enter the multi-sequence alignment here below as a multi-line string called `msa`."
   ]
  },
  {
   "cell_type": "code",
   "execution_count": null,
   "metadata": {
    "deletable": false,
    "nbgrader": {
     "cell_type": "code",
     "checksum": "fa6879fff242c381a336f85d69a96e17",
     "grade": false,
     "grade_id": "cell-6ffef2e19f573e15",
     "locked": false,
     "schema_version": 3,
     "solution": true,
     "task": false
    }
   },
   "outputs": [],
   "source": [
    "# YOUR CODE HERE\n",
    "raise NotImplementedError()"
   ]
  },
  {
   "cell_type": "code",
   "execution_count": null,
   "metadata": {
    "deletable": false,
    "editable": false,
    "nbgrader": {
     "cell_type": "code",
     "checksum": "eb77d54a873f1ca9890d783c8d6c202d",
     "grade": true,
     "grade_id": "cell-b39fdf740eda5d89",
     "locked": true,
     "points": 1,
     "schema_version": 3,
     "solution": false,
     "task": false
    }
   },
   "outputs": [],
   "source": [
    "# This is a test of the above, do not change this code.\n",
    "records = [record for record in Bio.SeqIO.parse(io.StringIO(msa), \"clustal\")]\n",
    "assert len(records)>=6"
   ]
  }
 ],
 "metadata": {
  "kernelspec": {
   "display_name": "Python 3 (ipykernel)",
   "language": "python",
   "name": "python3"
  },
  "language_info": {
   "codemirror_mode": {
    "name": "ipython",
    "version": 3
   },
   "file_extension": ".py",
   "mimetype": "text/x-python",
   "name": "python",
   "nbconvert_exporter": "python",
   "pygments_lexer": "ipython3",
   "version": "3.11.6"
  }
 },
 "nbformat": 4,
 "nbformat_minor": 4
}
