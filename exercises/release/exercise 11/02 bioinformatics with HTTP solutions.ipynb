{
 "cells": [
  {
   "cell_type": "code",
   "execution_count": null,
   "metadata": {},
   "outputs": [],
   "source": [
    "# Import biopython\n",
    "import Bio\n",
    "\n",
    "import requests"
   ]
  },
  {
   "cell_type": "code",
   "execution_count": null,
   "metadata": {},
   "outputs": [],
   "source": [
    "# You must run this cell, but you can ignore its contents.\n",
    "\n",
    "import hashlib\n",
    "\n",
    "def ads_hash(ty):\n",
    "    \"\"\"Return a unique string for input\"\"\"\n",
    "    ty_str = str(ty).encode()\n",
    "    m = hashlib.sha256()\n",
    "    m.update(ty_str)\n",
    "    return m.hexdigest()[:10]"
   ]
  },
  {
   "cell_type": "markdown",
   "metadata": {},
   "source": [
    "# Bioinformatics with HTTP\n",
    "\n",
    "Not only can we use the Star Wars API with HTTP, we can also access the NCBI's databases over HTTP. Here is [more information from the NCBI](https://www.ncbi.nlm.nih.gov/books/NBK25499/). Note that in this exercise, we will be doing low volume queries without using a specialized software library. Some libraries and other software is available to automatically do this for here. For example, below we use the `NCBIWWW` module from biopython. Here we do it \"the hard way\" at a low level.\n",
    "\n",
    "If you start using the NCBI web resources extensively, please read the NCBI's documentation about [providing them with an email address to contact you](https://www.ncbi.nlm.nih.gov/books/NBK25497/).\n"
   ]
  },
  {
   "cell_type": "code",
   "execution_count": null,
   "metadata": {},
   "outputs": [],
   "source": [
    "def get_protein_fasta(accession):\n",
    "    url = \"https://eutils.ncbi.nlm.nih.gov/entrez/eutils/efetch.fcgi?db=protein&id=%s&rettype=fasta&retmode=text\"%(accession,)\n",
    "    return requests.get(url).text"
   ]
  },
  {
   "cell_type": "code",
   "execution_count": null,
   "metadata": {},
   "outputs": [],
   "source": [
    "da1 = get_protein_fasta('NP_524481.2')\n",
    "da1"
   ]
  },
  {
   "cell_type": "markdown",
   "metadata": {},
   "source": [
    "Great, so we can get FASTA files directly from the NBCI using the accession.\n",
    "\n",
    "### Q1 Get the FASTA for accession `NP_733001.1`. Put the result in the variable `da2`, which should be a string."
   ]
  },
  {
   "cell_type": "code",
   "execution_count": null,
   "metadata": {
    "deletable": false,
    "nbgrader": {
     "cell_type": "code",
     "checksum": "8f464e8eca2eef0890d54178a411489c",
     "grade": false,
     "grade_id": "cell-570ab47725befb18",
     "locked": false,
     "schema_version": 3,
     "solution": true,
     "task": false
    }
   },
   "outputs": [],
   "source": [
    "# YOUR CODE HERE\n",
    "raise NotImplementedError()"
   ]
  },
  {
   "cell_type": "code",
   "execution_count": null,
   "metadata": {
    "deletable": false,
    "editable": false,
    "nbgrader": {
     "cell_type": "code",
     "checksum": "4113595f17df588523d2cc0283756060",
     "grade": true,
     "grade_id": "cell-5c1c1943259aebbb",
     "locked": true,
     "points": 1,
     "schema_version": 3,
     "solution": false,
     "task": false
    }
   },
   "outputs": [],
   "source": [
    "# This checks that the above worked\n",
    "assert ads_hash(da2)=='16538bd802'"
   ]
  },
  {
   "cell_type": "markdown",
   "metadata": {},
   "source": [
    "# Using the biopython library for bioinformatics, including NCBI queries"
   ]
  },
  {
   "cell_type": "code",
   "execution_count": null,
   "metadata": {},
   "outputs": [],
   "source": [
    "import Bio\n",
    "from Bio.Blast import NCBIWWW\n",
    "from Bio.Blast import NCBIXML\n",
    "from Bio import SeqIO\n",
    "from io import StringIO\n",
    "import os"
   ]
  },
  {
   "cell_type": "markdown",
   "metadata": {},
   "source": [
    "We can work with FASTA sequences using the biopython library. It expects multiple sequences in a given FASTA file, so we loop over them:\n",
    "\n",
    "Each record here is an instance of the [Seq class](https://biopython.org/wiki/Seq).\n",
    "\n",
    "Let's copy the sequence to a raw python string called `da2_seq`:"
   ]
  },
  {
   "cell_type": "code",
   "execution_count": null,
   "metadata": {},
   "outputs": [],
   "source": [
    "da2_seq = None\n",
    "for record in SeqIO.parse(StringIO(da2), \"fasta\"):\n",
    "    print(record)\n",
    "    assert(da2_seq is None)\n",
    "    da2_seq = str(record.seq)"
   ]
  },
  {
   "cell_type": "code",
   "execution_count": null,
   "metadata": {},
   "outputs": [],
   "source": [
    "da2_seq"
   ]
  },
  {
   "cell_type": "markdown",
   "metadata": {},
   "source": [
    "In addition to \"raw\" HTTP requests using the `requests` library, biopython also is able to call the NCBI for you. It is using HTTP to perform the call, but this is hidden from you. Below, we do a BLAST search based on the sequence we just downloaded."
   ]
  },
  {
   "cell_type": "markdown",
   "metadata": {},
   "source": [
    "We can limit our search to just a few organisms using the NCBI taxon ID. The easiest way to find these it to start typing in the BLAST web search entry page and copy the taxon ID from there.\n",
    "\n",
    "Here are a few taxon IDs for some insects and then some code to limit our NCBI query just to these taxa."
   ]
  },
  {
   "cell_type": "code",
   "execution_count": null,
   "metadata": {},
   "outputs": [],
   "source": [
    "# Bombus terrestris 30195\n",
    "# Apis mellifera 7460\n",
    "# Locusta migratoria 7004\n",
    "# Drosophila melanogaster 7227\n",
    "# Tribolium castaneum 7070\n",
    "taxids = (30195, 7460, 7004, 7227, 7070)\n",
    "taxid_query = ' OR '.join(['txid%d[ORGN]'%taxid for taxid in taxids])\n",
    "taxid_query"
   ]
  },
  {
   "cell_type": "markdown",
   "metadata": {},
   "source": [
    "Now with our query limited to these specific groups, we are going to run a BLAST search. As with the web browser interface, this can take some time, so the code below is written to only run the web search when the output file is not present. Therefore, once you run the web search the first time, it will not run again unless you delete the file.\n",
    "\n",
    "Futhermore, as [mentioned in the bio python tutorial](http://biopython.org/DIST/docs/tutorial/Tutorial.html#htoc92), we need to be careful with our result handle when we get it because it can be read only once. So, here we the results of our search to a local file. Later, we can read this as often as we want.\n",
    "\n",
    "**This may take some time as we are running a full BLAST search on the NCBI servers.**"
   ]
  },
  {
   "cell_type": "code",
   "execution_count": null,
   "metadata": {},
   "outputs": [],
   "source": [
    "fname = \"da2_blast.xml\"\n",
    "if not os.path.exists(fname):\n",
    "    result_handle = NCBIWWW.qblast(\"blastp\", \"nr\", da2_seq, entrez_query=taxid_query)\n",
    "    with open(fname, \"w\") as out_handle:\n",
    "        out_handle.write(result_handle.read())\n",
    "else:\n",
    "    print(\"not overwriting file %s\"%fname)"
   ]
  },
  {
   "cell_type": "code",
   "execution_count": null,
   "metadata": {},
   "outputs": [],
   "source": [
    "blast_record = NCBIXML.read(open(fname))\n",
    "for alignment in blast_record.alignments:\n",
    "    print(alignment)"
   ]
  },
  {
   "cell_type": "markdown",
   "metadata": {},
   "source": [
    "Let's do another blast search for the first protein we had. Again, this can take a long period of time to run on the NCBI servers."
   ]
  },
  {
   "cell_type": "code",
   "execution_count": null,
   "metadata": {},
   "outputs": [],
   "source": [
    "da1_seq = None\n",
    "for record in SeqIO.parse(StringIO(da1), \"fasta\"):\n",
    "    da1_seq = str(record.seq)\n",
    "\n",
    "fname = \"da1_blast.xml\"\n",
    "if not os.path.exists(fname):\n",
    "    result_handle = NCBIWWW.qblast(\"blastp\", \"nr\", da1_seq, entrez_query=taxid_query)\n",
    "    with open(fname, \"w\") as out_handle:\n",
    "        out_handle.write(result_handle.read())\n",
    "else:\n",
    "    print(\"not overwriting file %s\"%fname)"
   ]
  },
  {
   "cell_type": "markdown",
   "metadata": {},
   "source": [
    "In the results, each alignment returns a sequence of HSPS (\"High Scoring Pairs\").\n",
    "\n",
    "https://www.ncbi.nlm.nih.gov/books/NBK62051/"
   ]
  },
  {
   "cell_type": "code",
   "execution_count": null,
   "metadata": {},
   "outputs": [],
   "source": [
    "blast_record = NCBIXML.read(open(fname))\n",
    "for alignment in blast_record.alignments:\n",
    "    print(alignment)\n",
    "    print(\"%d HSPs\"%len(alignment.hsps))\n",
    "    for hsps in alignment.hsps:\n",
    "        print(hsps)\n",
    "    print()"
   ]
  }
 ],
 "metadata": {
  "kernelspec": {
   "display_name": "Python 3 (ipykernel)",
   "language": "python",
   "name": "python3"
  },
  "language_info": {
   "codemirror_mode": {
    "name": "ipython",
    "version": 3
   },
   "file_extension": ".py",
   "mimetype": "text/x-python",
   "name": "python",
   "nbconvert_exporter": "python",
   "pygments_lexer": "ipython3",
   "version": "3.11.6"
  }
 },
 "nbformat": 4,
 "nbformat_minor": 4
}
